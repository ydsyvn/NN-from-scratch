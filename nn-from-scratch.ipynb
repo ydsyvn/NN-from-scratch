{
 "cells": [
  {
   "cell_type": "code",
   "execution_count": 1,
   "id": "9cdc014f",
   "metadata": {
    "execution": {
     "iopub.execute_input": "2025-03-20T21:45:14.717112Z",
     "iopub.status.busy": "2025-03-20T21:45:14.716658Z",
     "iopub.status.idle": "2025-03-20T21:45:15.770412Z",
     "shell.execute_reply": "2025-03-20T21:45:15.769220Z"
    },
    "papermill": {
     "duration": 1.060634,
     "end_time": "2025-03-20T21:45:15.772768",
     "exception": false,
     "start_time": "2025-03-20T21:45:14.712134",
     "status": "completed"
    },
    "tags": []
   },
   "outputs": [],
   "source": [
    "import numpy as np\n",
    "import pandas as pd\n",
    "import matplotlib.pyplot as plt"
   ]
  },
  {
   "cell_type": "code",
   "execution_count": 2,
   "id": "c200f220",
   "metadata": {
    "execution": {
     "iopub.execute_input": "2025-03-20T21:45:15.780430Z",
     "iopub.status.busy": "2025-03-20T21:45:15.779853Z",
     "iopub.status.idle": "2025-03-20T21:45:15.785264Z",
     "shell.execute_reply": "2025-03-20T21:45:15.783978Z"
    },
    "papermill": {
     "duration": 0.010972,
     "end_time": "2025-03-20T21:45:15.787154",
     "exception": false,
     "start_time": "2025-03-20T21:45:15.776182",
     "status": "completed"
    },
    "tags": []
   },
   "outputs": [],
   "source": [
    "NUM_CLASSES = 10"
   ]
  },
  {
   "cell_type": "code",
   "execution_count": 3,
   "id": "17397e70",
   "metadata": {
    "execution": {
     "iopub.execute_input": "2025-03-20T21:45:15.794149Z",
     "iopub.status.busy": "2025-03-20T21:45:15.793737Z",
     "iopub.status.idle": "2025-03-20T21:45:15.799571Z",
     "shell.execute_reply": "2025-03-20T21:45:15.798363Z"
    },
    "papermill": {
     "duration": 0.011214,
     "end_time": "2025-03-20T21:45:15.801280",
     "exception": false,
     "start_time": "2025-03-20T21:45:15.790066",
     "status": "completed"
    },
    "tags": []
   },
   "outputs": [],
   "source": [
    "def prepare_data(path):\n",
    "    data = pd.read_csv(path)\n",
    "    \n",
    "    y = np.array(data[\"label\"])\n",
    "    \n",
    "    X = data.drop(labels=[\"label\"], axis=1)\n",
    "    X_normalized = np.array(X / 255.0)\n",
    "\n",
    "    zeros = np.zeros((y.size, NUM_CLASSES))\n",
    "    zeros[np.arange(y.size), y] = 1\n",
    "\n",
    "    return X_normalized, zeros\n",
    "    "
   ]
  },
  {
   "cell_type": "code",
   "execution_count": 4,
   "id": "5c6b4e56",
   "metadata": {
    "execution": {
     "iopub.execute_input": "2025-03-20T21:45:15.807740Z",
     "iopub.status.busy": "2025-03-20T21:45:15.807328Z",
     "iopub.status.idle": "2025-03-20T21:45:21.309367Z",
     "shell.execute_reply": "2025-03-20T21:45:21.308176Z"
    },
    "papermill": {
     "duration": 5.50727,
     "end_time": "2025-03-20T21:45:21.311337",
     "exception": false,
     "start_time": "2025-03-20T21:45:15.804067",
     "status": "completed"
    },
    "tags": []
   },
   "outputs": [],
   "source": [
    "X_train = pd.read_csv('/kaggle/input/digit-recognizer/train.csv')\n",
    "y_train = X_train.label\n",
    "X_test = pd.read_csv('/kaggle/input/digit-recognizer/test.csv')\n",
    "# y_test = pd.read_csv('/kaggle/input/digit-recognizer/test.csv')"
   ]
  },
  {
   "cell_type": "code",
   "execution_count": 5,
   "id": "47e8f842",
   "metadata": {
    "execution": {
     "iopub.execute_input": "2025-03-20T21:45:21.318188Z",
     "iopub.status.busy": "2025-03-20T21:45:21.317721Z",
     "iopub.status.idle": "2025-03-20T21:45:25.362087Z",
     "shell.execute_reply": "2025-03-20T21:45:25.360961Z"
    },
    "papermill": {
     "duration": 4.050241,
     "end_time": "2025-03-20T21:45:25.364185",
     "exception": false,
     "start_time": "2025-03-20T21:45:21.313944",
     "status": "completed"
    },
    "tags": []
   },
   "outputs": [],
   "source": [
    "train = pd.read_csv('/kaggle/input/digit-recognizer/train.csv')\n",
    "test = pd.read_csv('/kaggle/input/digit-recognizer/test.csv')\n",
    "\n",
    "y_train = train[\"label\"]\n",
    "zeros = np.zeros((y_train.size, NUM_CLASSES))\n",
    "zeros[np.arange(y_train.size), y_train] = 1\n",
    "y_train = zeros\n",
    "\n",
    "X_train = train.drop(labels=[\"label\"], axis=1)\n",
    "X_train = np.array(X_train / 255.0)\n",
    "\n",
    "X_test = np.array(test / 255.0)"
   ]
  },
  {
   "cell_type": "code",
   "execution_count": 6,
   "id": "2df31d1c",
   "metadata": {
    "execution": {
     "iopub.execute_input": "2025-03-20T21:45:25.370324Z",
     "iopub.status.busy": "2025-03-20T21:45:25.369921Z",
     "iopub.status.idle": "2025-03-20T21:45:25.658710Z",
     "shell.execute_reply": "2025-03-20T21:45:25.657532Z"
    },
    "papermill": {
     "duration": 0.293676,
     "end_time": "2025-03-20T21:45:25.660442",
     "exception": false,
     "start_time": "2025-03-20T21:45:25.366766",
     "status": "completed"
    },
    "tags": []
   },
   "outputs": [
    {
     "data": {
      "text/plain": [
       "<matplotlib.image.AxesImage at 0x7fd6ae8993c0>"
      ]
     },
     "execution_count": 6,
     "metadata": {},
     "output_type": "execute_result"
    },
    {
     "data": {
      "image/png": "[encoded data removed]",
      "text/plain": [
       "<Figure size 640x480 with 1 Axes>"
      ]
     },
     "metadata": {},
     "output_type": "display_data"
    }
   ],
   "source": [
    "plt.imshow(X_train[0].reshape(28, 28), cmap='gray')"
   ]
  },
  {
   "cell_type": "code",
   "execution_count": 7,
   "id": "d45a9fa1",
   "metadata": {
    "execution": {
     "iopub.execute_input": "2025-03-20T21:45:25.667507Z",
     "iopub.status.busy": "2025-03-20T21:45:25.667149Z",
     "iopub.status.idle": "2025-03-20T21:45:25.676243Z",
     "shell.execute_reply": "2025-03-20T21:45:25.675144Z"
    },
    "papermill": {
     "duration": 0.01468,
     "end_time": "2025-03-20T21:45:25.678101",
     "exception": false,
     "start_time": "2025-03-20T21:45:25.663421",
     "status": "completed"
    },
    "tags": []
   },
   "outputs": [],
   "source": [
    "class DeepNeuralNetwork:\n",
    "    def __init__(self, input_size, hidden_size, output_size, learning_rate=0.01):\n",
    "        self.input_size = input_size\n",
    "        self.hidden_size = hidden_size\n",
    "        self.output_size = output_size\n",
    "        self.learning_rate = learning_rate\n",
    "\n",
    "        # Initialize weights\n",
    "        self.W1 = self.xavier_glorot_initialization(self.input_size, self.hidden_size)\n",
    "        self.b1 = np.zeros((1, self.hidden_size))\n",
    "        self.W2 = self.xavier_glorot_initialization(self.hidden_size, self.output_size)\n",
    "        self.b2 = np.zeros((1, self.output_size))\n",
    "\n",
    "        self.loss_history = []\n",
    "        self.accuracy_history = []\n",
    "\n",
    "    \n",
    "    def xavier_glorot_initialization(self, fan_in, fan_out):\n",
    "        \"\"\"Initializes weights with Xavier/Glorot initialization\"\"\"\n",
    "        fan_avg = (fan_in + fan_out) / 2\n",
    "        variance = 1 / fan_avg\n",
    "        limit = np.sqrt(3 * variance)\n",
    "        weights = np.random.uniform(-limit, limit, size=(fan_in, fan_out))\n",
    "        \n",
    "        return weights\n",
    "\n",
    "    def sigmoid(self, x):\n",
    "        \"\"\"Sigmoid activation function\"\"\"\n",
    "        return 1 / (1 + np.exp(-x))\n",
    "    \n",
    "    def relu(self, x):\n",
    "        \"\"\"ReLU activation function\"\"\"\n",
    "        return np.maximum(0, x)\n",
    "        \n",
    "    def softmax(self, x):\n",
    "        \"\"\"Softmax activation function\"\"\"\n",
    "        exp_x = np.exp(x - np.max(x, axis=-1, keepdims=True))\n",
    "        return exp_x / np.sum(exp_x, axis=-1, keepdims=True)\n",
    "        "
   ]
  }
 ],
 "metadata": {
  "kaggle": {
   "accelerator": "none",
   "dataSources": [
    {
     "databundleVersionId": 861823,
     "sourceId": 3004,
     "sourceType": "competition"
    }
   ],
   "dockerImageVersionId": 30918,
   "isGpuEnabled": false,
   "isInternetEnabled": false,
   "language": "python",
   "sourceType": "notebook"
  },
  "kernelspec": {
   "display_name": "Python 3",
   "language": "python",
   "name": "python3"
  },
  "language_info": {
   "codemirror_mode": {
    "name": "ipython",
    "version": 3
   },
   "file_extension": ".py",
   "mimetype": "text/x-python",
   "name": "python",
   "nbconvert_exporter": "python",
   "pygments_lexer": "ipython3",
   "version": "3.10.12"
  },
  "papermill": {
   "default_parameters": {},
   "duration": 14.767356,
   "end_time": "2025-03-20T21:45:26.503535",
   "environment_variables": {},
   "exception": null,
   "input_path": "__notebook__.ipynb",
   "output_path": "__notebook__.ipynb",
   "parameters": {},
   "start_time": "2025-03-20T21:45:11.736179",
   "version": "2.6.0"
  }
 },
 "nbformat": 4,
 "nbformat_minor": 5
}
