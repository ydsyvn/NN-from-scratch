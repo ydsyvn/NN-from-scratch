{
 "cells": [
  {
   "cell_type": "code",
   "execution_count": 1,
   "id": "3d450eaa",
   "metadata": {
    "execution": {
     "iopub.execute_input": "2025-03-20T21:49:38.226141Z",
     "iopub.status.busy": "2025-03-20T21:49:38.225805Z",
     "iopub.status.idle": "2025-03-20T21:49:39.391203Z",
     "shell.execute_reply": "2025-03-20T21:49:39.390307Z"
    },
    "papermill": {
     "duration": 1.17133,
     "end_time": "2025-03-20T21:49:39.393205",
     "exception": false,
     "start_time": "2025-03-20T21:49:38.221875",
     "status": "completed"
    },
    "tags": []
   },
   "outputs": [],
   "source": [
    "import numpy as np\n",
    "import pandas as pd\n",
    "import matplotlib.pyplot as plt"
   ]
  },
  {
   "cell_type": "code",
   "execution_count": 2,
   "id": "cc9bd1e8",
   "metadata": {
    "execution": {
     "iopub.execute_input": "2025-03-20T21:49:39.399174Z",
     "iopub.status.busy": "2025-03-20T21:49:39.398722Z",
     "iopub.status.idle": "2025-03-20T21:49:39.402823Z",
     "shell.execute_reply": "2025-03-20T21:49:39.401708Z"
    },
    "papermill": {
     "duration": 0.008812,
     "end_time": "2025-03-20T21:49:39.404649",
     "exception": false,
     "start_time": "2025-03-20T21:49:39.395837",
     "status": "completed"
    },
    "tags": []
   },
   "outputs": [],
   "source": [
    "NUM_CLASSES = 10"
   ]
  },
  {
   "cell_type": "code",
   "execution_count": 3,
   "id": "c04fd06f",
   "metadata": {
    "execution": {
     "iopub.execute_input": "2025-03-20T21:49:39.409986Z",
     "iopub.status.busy": "2025-03-20T21:49:39.409663Z",
     "iopub.status.idle": "2025-03-20T21:49:46.096953Z",
     "shell.execute_reply": "2025-03-20T21:49:46.095944Z"
    },
    "papermill": {
     "duration": 6.692055,
     "end_time": "2025-03-20T21:49:46.098884",
     "exception": false,
     "start_time": "2025-03-20T21:49:39.406829",
     "status": "completed"
    },
    "tags": []
   },
   "outputs": [],
   "source": [
    "train = pd.read_csv('/kaggle/input/digit-recognizer/train.csv')\n",
    "test = pd.read_csv('/kaggle/input/digit-recognizer/test.csv')\n",
    "\n",
    "y_train = train[\"label\"]\n",
    "zeros = np.zeros((y_train.size, NUM_CLASSES))\n",
    "zeros[np.arange(y_train.size), y_train] = 1\n",
    "y_train = zeros\n",
    "\n",
    "X_train = train.drop(labels=[\"label\"], axis=1)\n",
    "X_train = np.array(X_train / 255.0)\n",
    "\n",
    "X_test = np.array(test / 255.0)"
   ]
  },
  {
   "cell_type": "code",
   "execution_count": 4,
   "id": "86a06c38",
   "metadata": {
    "execution": {
     "iopub.execute_input": "2025-03-20T21:49:46.104380Z",
     "iopub.status.busy": "2025-03-20T21:49:46.104005Z",
     "iopub.status.idle": "2025-03-20T21:49:47.046111Z",
     "shell.execute_reply": "2025-03-20T21:49:47.045134Z"
    },
    "papermill": {
     "duration": 0.947101,
     "end_time": "2025-03-20T21:49:47.048185",
     "exception": false,
     "start_time": "2025-03-20T21:49:46.101084",
     "status": "completed"
    },
    "tags": []
   },
   "outputs": [
    {
     "data": {
      "image/png": "[encoded data removed]",
      "text/plain": [
       "<Figure size 1500x450 with 30 Axes>"
      ]
     },
     "metadata": {},
     "output_type": "display_data"
    }
   ],
   "source": [
    "plt.figure(figsize=(15,4.5))\n",
    "for i in range(30):  \n",
    "    plt.subplot(3, 10, i+1)\n",
    "    plt.imshow(X_train[i].reshape((28,28)),cmap=plt.cm.binary)\n",
    "    plt.axis('off')\n",
    "plt.subplots_adjust(wspace=-0.1, hspace=-0.1)\n",
    "plt.show()"
   ]
  },
  {
   "cell_type": "code",
   "execution_count": 5,
   "id": "4bb0bef3",
   "metadata": {
    "execution": {
     "iopub.execute_input": "2025-03-20T21:49:47.055345Z",
     "iopub.status.busy": "2025-03-20T21:49:47.054954Z",
     "iopub.status.idle": "2025-03-20T21:49:47.063532Z",
     "shell.execute_reply": "2025-03-20T21:49:47.062336Z"
    },
    "papermill": {
     "duration": 0.014089,
     "end_time": "2025-03-20T21:49:47.065147",
     "exception": false,
     "start_time": "2025-03-20T21:49:47.051058",
     "status": "completed"
    },
    "tags": []
   },
   "outputs": [],
   "source": [
    "class DeepNeuralNetwork:\n",
    "    def __init__(self, input_size, hidden_size, output_size, learning_rate=0.01):\n",
    "        self.input_size = input_size\n",
    "        self.hidden_size = hidden_size\n",
    "        self.output_size = output_size\n",
    "        self.learning_rate = learning_rate\n",
    "\n",
    "        # Initialize weights\n",
    "        self.W1 = self.xavier_glorot_initialization(self.input_size, self.hidden_size)\n",
    "        self.b1 = np.zeros((1, self.hidden_size))\n",
    "        self.W2 = self.xavier_glorot_initialization(self.hidden_size, self.output_size)\n",
    "        self.b2 = np.zeros((1, self.output_size))\n",
    "\n",
    "        self.loss_history = []\n",
    "        self.accuracy_history = []\n",
    "\n",
    "    \n",
    "    def xavier_glorot_initialization(self, fan_in, fan_out):\n",
    "        \"\"\"Initializes weights with Xavier/Glorot initialization\"\"\"\n",
    "        fan_avg = (fan_in + fan_out) / 2\n",
    "        variance = 1 / fan_avg\n",
    "        limit = np.sqrt(3 * variance)\n",
    "        weights = np.random.uniform(-limit, limit, size=(fan_in, fan_out))\n",
    "        \n",
    "        return weights\n",
    "\n",
    "    def sigmoid(self, x):\n",
    "        \"\"\"Sigmoid activation function\"\"\"\n",
    "        return 1 / (1 + np.exp(-x))\n",
    "    \n",
    "    def relu(self, x):\n",
    "        \"\"\"ReLU activation function\"\"\"\n",
    "        return np.maximum(0, x)\n",
    "        \n",
    "    def softmax(self, x):\n",
    "        \"\"\"Softmax activation function\"\"\"\n",
    "        exp_x = np.exp(x - np.max(x, axis=-1, keepdims=True))\n",
    "        return exp_x / np.sum(exp_x, axis=-1, keepdims=True)\n",
    "        "
   ]
  }
 ],
 "metadata": {
  "kaggle": {
   "accelerator": "none",
   "dataSources": [
    {
     "databundleVersionId": 861823,
     "sourceId": 3004,
     "sourceType": "competition"
    }
   ],
   "dockerImageVersionId": 30918,
   "isGpuEnabled": false,
   "isInternetEnabled": false,
   "language": "python",
   "sourceType": "notebook"
  },
  "kernelspec": {
   "display_name": "Python 3",
   "language": "python",
   "name": "python3"
  },
  "language_info": {
   "codemirror_mode": {
    "name": "ipython",
    "version": 3
   },
   "file_extension": ".py",
   "mimetype": "text/x-python",
   "name": "python",
   "nbconvert_exporter": "python",
   "pygments_lexer": "ipython3",
   "version": "3.10.12"
  },
  "papermill": {
   "default_parameters": {},
   "duration": 12.667172,
   "end_time": "2025-03-20T21:49:47.788619",
   "environment_variables": {},
   "exception": null,
   "input_path": "__notebook__.ipynb",
   "output_path": "__notebook__.ipynb",
   "parameters": {},
   "start_time": "2025-03-20T21:49:35.121447",
   "version": "2.6.0"
  }
 },
 "nbformat": 4,
 "nbformat_minor": 5
}
